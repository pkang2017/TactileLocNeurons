{
 "cells": [
  {
   "cell_type": "markdown",
   "metadata": {},
   "source": [
    "## Example for training Spiking MLP on subset of NMNIST digits\n",
    "### The problem:\n",
    "Training digit classifier(0-9) on a subset(1000 training and 100 testing) of NMNIST digit spikes recorded using DVS camera. Just chagne the training and testing list for full NMNIST training."
   ]
  },
  {
   "cell_type": "markdown",
   "metadata": {},
   "source": [
    "## Load proper paths for SLAYER Pytorch source modules¶"
   ]
  },
  {
   "cell_type": "code",
   "execution_count": 1,
   "metadata": {},
   "outputs": [],
   "source": [
    "import sys, os\n",
    "CURRENT_TEST_DIR = os.getcwd()\n",
    "sys.path.append(CURRENT_TEST_DIR + \"/../../src\")"
   ]
  },
  {
   "cell_type": "markdown",
   "metadata": {},
   "source": [
    "## Load required modules\n",
    "* SLAYER modules are available as `snn`.{`layer`, `params`, `loss`, `predict`, `io`}\n",
    "* SLAYER-Loihi module implements `spikeLayer` (defines custom Loihi neuron behaviour) and `quantizeWeights` (defines weight quantization scheme)\n",
    "* Optimizer implements custom NADAM optimizer"
   ]
  },
  {
   "cell_type": "code",
   "execution_count": 2,
   "metadata": {},
   "outputs": [],
   "source": [
    "from datetime import datetime\n",
    "import numpy as np\n",
    "import matplotlib.pyplot as plt\n",
    "import torch\n",
    "from torch.utils.data import Dataset, DataLoader\n",
    "import slayerSNN as snn\n",
    "from slayerSNN import loihi as spikeLayer\n",
    "from slayerSNN import quantize as quantizeParams\n",
    "from slayerSNN import learningStats as learningStats\n",
    "from slayerSNN import optimizer as optimizer\n",
    "# from slayerLoihi import spikeLayer\n",
    "# from quantizeParams import quantizeWeights\n",
    "# from learningStats import learningStats\n",
    "# import optimizer\n",
    "import zipfile"
   ]
  },
  {
   "cell_type": "markdown",
   "metadata": {},
   "source": [
    "## Read SNN configuration from yaml file\n",
    "\n",
    "See the file for all the configuration parameters. This configuration file will be used to describe the SNN. The network configuration file (`network.yaml`) looks like this:\n",
    "\n",
    "```python\n",
    "simulation:\n",
    "    Ts: 1.0\n",
    "    tSample: 350\n",
    "neuron:\n",
    "    type:     LOIHI\n",
    "    vThMant:  80 # 5\n",
    "    vDecay:   128\n",
    "    iDecay:   1024\n",
    "    refDelay: 1\n",
    "    wgtExp:   0\n",
    "    tauRho:   1     # relative to theta \n",
    "    scaleRho: 1\n",
    "training:\n",
    "    error:\n",
    "        type: NumSpikes #ProbSpikes #NumSpikes\n",
    "        tgtSpikeRegion: {start: 0, stop: 300}   # only valid for NumSpikes and ProbSpikes\n",
    "        tgtSpikeCount: {true: 60, false: 10}    # only valid for NumSpikes\n",
    "    path:\n",
    "        in:      NMNISTsmall/\n",
    "        train:   NMNISTsmall/train1K.txt\n",
    "        test:    NMNISTsmall/test100.txt\n",
    "```     \n",
    "Just change the path fields for full NMNIST training"
   ]
  },
  {
   "cell_type": "code",
   "execution_count": 3,
   "metadata": {},
   "outputs": [],
   "source": [
    "netParams = snn.params('network.yaml')"
   ]
  },
  {
   "cell_type": "markdown",
   "metadata": {},
   "source": [
    "## Extract NMNISTsmall dataset\n",
    "This is a subset of NMNIST dataset containing first 1000 training samples and first 100 testing samples. The original NMNSIT dataset consists of full MNIST samples converted into spikes using DVS sensor moved in three repeatable saccadic motion. For details and full dataset download links, refer to [https://www.garrickorchard.com/datasets/n-mnist](https://www.garrickorchard.com/datasets/n-mnist)"
   ]
  },
  {
   "cell_type": "code",
   "execution_count": 4,
   "metadata": {},
   "outputs": [],
   "source": [
    "with zipfile.ZipFile('NMNISTsmall.zip') as zip_file:\n",
    "    for member in zip_file.namelist():\n",
    "        if not os.path.exists('./' + member):\n",
    "            zip_file.extract(member, './')"
   ]
  },
  {
   "cell_type": "markdown",
   "metadata": {},
   "source": [
    "## Dataset Definition\n",
    "The dataset definition follows standard PyTorch dataset definition. Internally, it utilizes `snn.io` modules to read spikes and returns the spike in correct tensor format (`CHWT`).\n",
    "* `datasetPath`: the path where the spike files are stored.\n",
    "* `sampleFile`: the file that contains a list of sample indices and its corresponding clases.\n",
    "* `samplingTime`: the sampling time (in ms) to bin the spikes.\n",
    "* `sampleLength`: the length of the sample (in ms)\n",
    "\n",
    "Note: This is a simple dataset class. A dataset that utilizes the folder hierarchy or xml list is easy to create just like any other PyTorch dataset definition."
   ]
  },
  {
   "cell_type": "code",
   "execution_count": 5,
   "metadata": {},
   "outputs": [],
   "source": [
    "class nmnistDataset(Dataset):\n",
    "    def __init__(self, datasetPath, sampleFile, samplingTime, sampleLength):\n",
    "        self.path = datasetPath \n",
    "        self.samples = np.loadtxt(sampleFile).astype('int')\n",
    "        self.samplingTime = samplingTime\n",
    "        self.nTimeBins    = int(sampleLength / samplingTime)\n",
    "\n",
    "    def __getitem__(self, index):\n",
    "        # Read inoput and label\n",
    "        inputIndex  = self.samples[index, 0]\n",
    "        classLabel  = self.samples[index, 1]\n",
    "        # Read input spike\n",
    "        inputSpikes = snn.io.read2Dspikes(\n",
    "                        self.path + str(inputIndex.item()) + '.bs2'\n",
    "                        ).toSpikeTensor(torch.zeros((2,34,34,self.nTimeBins)),\n",
    "                        samplingTime=self.samplingTime)\n",
    "        # Create one-hot encoded desired matrix\n",
    "        desiredClass = torch.zeros((10, 1, 1, 1))\n",
    "        desiredClass[classLabel,...] = 1\n",
    "        # Input spikes are reshaped to ignore the spatial dimension and the neurons are placed in channel dimension.\n",
    "        # The spatial dimension can be maintained and used as it is.\n",
    "        # It requires different definition of the dense layer.\n",
    "        return inputSpikes.reshape((-1, 1, 1, inputSpikes.shape[-1])), desiredClass, classLabel\n",
    "    \n",
    "    def __len__(self):\n",
    "        return self.samples.shape[0]"
   ]
  },
  {
   "cell_type": "markdown",
   "metadata": {},
   "source": [
    "## Define the network\n",
    "The network definition follows similar style as standard PyTorch network definition, but it utilizes snn modules."
   ]
  },
  {
   "cell_type": "code",
   "execution_count": 6,
   "metadata": {},
   "outputs": [],
   "source": [
    "class Network(torch.nn.Module):\n",
    "    def __init__(self, netParams):\n",
    "        super(Network, self).__init__()\n",
    "        # initialize slayer\n",
    "        slayer = spikeLayer(netParams['neuron'], netParams['simulation'])\n",
    "        self.slayer = slayer\n",
    "        # define network functions\n",
    "        self.fc1   = slayer.dense((34*34*2), 512)\n",
    "        self.fc2   = slayer.dense(512, 10)\n",
    "\n",
    "    def forward(self, spikeInput):\n",
    "        spike = self.slayer.spikeLoihi(self.fc1(spikeInput))\n",
    "        spike = self.slayer.delayShift(spike, 1)\n",
    "        # A minimum axonal delay of 1 tick is required in Loihi hardare\n",
    "        spike = self.slayer.spikeLoihi(self.fc2(spike))\n",
    "        spike = self.slayer.delayShift(spike, 1)\n",
    "        return spike"
   ]
  },
  {
   "cell_type": "markdown",
   "metadata": {},
   "source": [
    "## Initialize the network\n",
    "* Define the device to run the code on.\n",
    "* Create network instance.\n",
    "* Create loss instance.\n",
    "* Define optimizer module.\n",
    "* Define training and testing dataloader.\n",
    "* Cereate instance for learningStats."
   ]
  },
  {
   "cell_type": "code",
   "execution_count": 7,
   "metadata": {},
   "outputs": [
    {
     "name": "stdout",
     "output_type": "stream",
     "text": [
      "Max PSP kernel: 195.0\n",
      "Scaling neuron[scaleRho] by Max PSP Kernel @slayerLoihi\n",
      "Max PSP kernel: 195.0\n",
      "Scaling neuron[scaleRho] by Max PSP Kernel @slayerLoihi\n"
     ]
    }
   ],
   "source": [
    "# Define the cuda device to run the code on.\n",
    "device = torch.device('cuda')\n",
    "\n",
    "# Create network instance.\n",
    "net = Network(netParams).to(device)\n",
    "\n",
    "# Create snn loss instance.\n",
    "error = snn.loss(netParams, spikeLayer).to(device)\n",
    "\n",
    "# Define optimizer module.\n",
    "# optimizer = torch.optim.Adam(net.parameters(), lr = 0.01, amsgrad = True)\n",
    "optimizer = optimizer.Nadam(net.parameters(), lr = 0.01, amsgrad = True)\n",
    "\n",
    "# Dataset and dataLoader instances.\n",
    "trainingSet = nmnistDataset(datasetPath =netParams['training']['path']['in'], \n",
    "                            sampleFile  =netParams['training']['path']['train'],\n",
    "                            samplingTime=netParams['simulation']['Ts'],\n",
    "                            sampleLength=netParams['simulation']['tSample'])\n",
    "trainLoader = DataLoader(dataset=trainingSet, batch_size=12, shuffle=False, num_workers=4)\n",
    "\n",
    "testingSet = nmnistDataset(datasetPath  =netParams['training']['path']['in'], \n",
    "                            sampleFile  =netParams['training']['path']['test'],\n",
    "                            samplingTime=netParams['simulation']['Ts'],\n",
    "                            sampleLength=netParams['simulation']['tSample'])\n",
    "testLoader = DataLoader(dataset=testingSet, batch_size=12, shuffle=False, num_workers=4)\n",
    "\n",
    "# Learning stats instance.\n",
    "stats = learningStats()"
   ]
  },
  {
   "cell_type": "markdown",
   "metadata": {},
   "source": [
    "## Visualize the spike data\n",
    "Visualize the first five samples of the dataset.\n",
    "\n",
    "`snn.io.showTD` should show an animation of the sequence in normal python session."
   ]
  },
  {
   "cell_type": "code",
   "execution_count": 8,
   "metadata": {},
   "outputs": [
    {
     "data": {
      "image/png": "[encoded data removed]",
      "text/plain": [
       "<Figure size 432x288 with 1 Axes>"
      ]
     },
     "metadata": {
      "needs_background": "light"
     },
     "output_type": "display_data"
    },
    {
     "data": {
      "image/png": "[encoded data removed]",
      "text/plain": [
       "<Figure size 432x288 with 1 Axes>"
      ]
     },
     "metadata": {
      "needs_background": "light"
     },
     "output_type": "display_data"
    },
    {
     "data": {
      "image/png": "[encoded data removed]",
      "text/plain": [
       "<Figure size 432x288 with 1 Axes>"
      ]
     },
     "metadata": {
      "needs_background": "light"
     },
     "output_type": "display_data"
    },
    {
     "data": {
      "image/png": "[encoded data removed]",
      "text/plain": [
       "<Figure size 432x288 with 1 Axes>"
      ]
     },
     "metadata": {
      "needs_background": "light"
     },
     "output_type": "display_data"
    },
    {
     "data": {
      "image/png": "[encoded data removed]",
      "text/plain": [
       "<Figure size 432x288 with 1 Axes>"
      ]
     },
     "metadata": {
      "needs_background": "light"
     },
     "output_type": "display_data"
    }
   ],
   "source": [
    "# Visualize the input spikes (first five samples).\n",
    "for i in range(5):\n",
    "    input, target, label = trainingSet[i]\n",
    "    snn.io.showTD(snn.io.spikeArrayToEvent(input.reshape((2, 34, 34, -1)).cpu().data.numpy()))"
   ]
  },
  {
   "cell_type": "markdown",
   "metadata": {},
   "source": [
    "## Train the network\n",
    "* Train the network for 100 epochs.\n",
    "* Best network is stored for inferencing later"
   ]
  },
  {
   "cell_type": "code",
   "execution_count": 9,
   "metadata": {},
   "outputs": [
    {
     "name": "stdout",
     "output_type": "stream",
     "text": [
      "\u001b[0A\n",
      "Epoch :          0,    3389.0990 ms elapsed\n",
      "loss = 12448                              \taccuracy = 0.111                        \n",
      "loss = 6.9844                             \taccuracy = 0.13                         \n",
      "\u001b[4A\n",
      "Epoch :         10,    3184.6090 ms elapsed\n",
      "loss = 1.8495       (min = 401.55      )  \taccuracy = 0.841      (max = 0.802     )\n",
      "loss = 8113.3       (min = 3.3527      )  \taccuracy = 0.74       (max = 0.74      )\n",
      "\u001b[4A\n",
      "Epoch :         20,    3023.7330 ms elapsed\n",
      "loss = 412.12       (min = 1.3214      )  \taccuracy = 0.9        (max = 0.911     )\n",
      "loss = 2.5671       (min = 2.4299      )  \taccuracy = 0.77       (max = 0.79      )\n",
      "\u001b[4A\n",
      "Epoch :         30,    3230.1900 ms elapsed\n",
      "loss = 0.96338      (min = 0.99635     )  \taccuracy = 0.95       (max = 0.947     )\n",
      "loss = 2.1362       (min = 2.2019      )  \taccuracy = 0.83       (max = 0.83      )\n",
      "\u001b[4A\n",
      "Epoch :         40,    2974.8840 ms elapsed\n",
      "loss = 0.78975      (min = 0.81585     )  \taccuracy = 0.978      (max = 0.973     )\n",
      "loss = 1.967        (min = 1.99        )  \taccuracy = 0.89       (max = 0.89      )\n",
      "\u001b[4A\n",
      "Epoch :         50,    2912.8090 ms elapsed\n",
      "loss = 0.86051      (min = 0.67519     )  \taccuracy = 0.975      (max = 0.988     )\n",
      "loss = 2.0802       (min = 1.8768      )  \taccuracy = 0.87       (max = 0.92      )\n",
      "\u001b[4A\n",
      "Epoch :         60,    3100.5720 ms elapsed\n",
      "loss = 0.55369      (min = 0.56555     )  \taccuracy = 0.993      (max = 0.994     )\n",
      "loss = 1.8587       (min = 1.8663      )  \taccuracy = 0.92       (max = 0.92      )\n",
      "\u001b[4A\n",
      "Epoch :         70,    2931.0510 ms elapsed\n",
      "loss = 0.60908      (min = 0.51862     )  \taccuracy = 0.991      (max = 0.995     )\n",
      "loss = 1.8888       (min = 1.8282      )  \taccuracy = 0.88       (max = 0.93      )\n",
      "\u001b[4A\n",
      "Epoch :         80,    2919.2790 ms elapsed\n",
      "loss = 0.44272      (min = 0.45098     )  \taccuracy = 0.999      (max = 0.999     )\n",
      "loss = 1.768        (min = 1.7552      )  \taccuracy = 0.9        (max = 0.93      )\n",
      "\u001b[4A\n",
      "Epoch :         90,    2938.6820 ms elapsed\n",
      "loss = 0.4254       (min = 0.41463     )  \taccuracy = 0.999      (max = 0.999     )\n",
      "loss = 1.774        (min = 1.7088      )  \taccuracy = 0.9        (max = 0.93      )\n"
     ]
    }
   ],
   "source": [
    "for epoch in range(100):\n",
    "    tSt = datetime.now()\n",
    "\n",
    "    # Training loop.\n",
    "    for i, (input, target, label) in enumerate(trainLoader, 0):\n",
    "        # Move the input and target to correct GPU.\n",
    "        input  = input.to(device)\n",
    "        target = target.to(device) \n",
    "\n",
    "        # Forward pass of the network.\n",
    "        output = net.forward(input)\n",
    "\n",
    "        # Gather the training stats.\n",
    "        stats.training.correctSamples += torch.sum( snn.predict.getClass(output) == label ).data.item()\n",
    "        stats.training.numSamples     += len(label)\n",
    "\n",
    "        # Calculate loss.\n",
    "        loss = error.numSpikes(output, target)\n",
    "\n",
    "        # Reset gradients to zero.\n",
    "        optimizer.zero_grad()\n",
    "\n",
    "        # Backward pass of the network.\n",
    "        loss.backward()\n",
    "\n",
    "        # Update weights.\n",
    "        optimizer.step()\n",
    "\n",
    "        # Gather training loss stats.\n",
    "        stats.training.lossSum += loss.cpu().data.item()\n",
    "\n",
    "        # Display training stats. (Suitable for normal python implementation)\n",
    "        # if i%10 == 0: stats.print(epoch, i, (datetime.now() - tSt).total_seconds())\n",
    "\n",
    "    # Testing loop.\n",
    "    # Same steps as Training loops except loss backpropagation and weight update.\n",
    "    for i, (input, target, label) in enumerate(testLoader, 0):\n",
    "        input  = input.to(device)\n",
    "        target = target.to(device) \n",
    "\n",
    "        output = net.forward(input)\n",
    "\n",
    "        stats.testing.correctSamples += torch.sum( snn.predict.getClass(output) == label ).data.item()\n",
    "        stats.testing.numSamples     += len(label)\n",
    "\n",
    "        loss = error.numSpikes(output, target)\n",
    "        stats.testing.lossSum += loss.cpu().data.item()\n",
    "        # if i%10 == 0:\tstats.print(epoch, i)\n",
    "\n",
    "    # Update testing stats.\n",
    "    if epoch%10==0:  stats.print(epoch, timeElapsed=(datetime.now() - tSt).total_seconds())\n",
    "    stats.update()\n",
    "    if stats.training.bestLoss is True: torch.save(net.state_dict(), 'Trained/nmnistNet.pt')"
   ]
  },
  {
   "cell_type": "markdown",
   "metadata": {},
   "source": [
    "## Plot the Results"
   ]
  },
  {
   "cell_type": "code",
   "execution_count": 11,
   "metadata": {},
   "outputs": [
    {
     "data": {
      "image/png": "[encoded data removed]",
      "text/plain": [
       "<Figure size 432x288 with 1 Axes>"
      ]
     },
     "metadata": {
      "needs_background": "light"
     },
     "output_type": "display_data"
    },
    {
     "data": {
      "image/png": "[encoded data removed]",
      "text/plain": [
       "<Figure size 432x288 with 1 Axes>"
      ]
     },
     "metadata": {
      "needs_background": "light"
     },
     "output_type": "display_data"
    }
   ],
   "source": [
    "# Plot the results.\n",
    "# Learning loss\n",
    "plt.figure(1)\n",
    "plt.semilogy(stats.training.lossLog, label='Training')\n",
    "plt.semilogy(stats.testing .lossLog, label='Testing')\n",
    "plt.xlabel('Epoch')\n",
    "plt.ylabel('Loss')\n",
    "plt.legend()\n",
    "\n",
    "# Learning accuracy\n",
    "plt.figure(2)\n",
    "plt.plot(stats.training.accuracyLog, label='Training')\n",
    "plt.plot(stats.testing .accuracyLog, label='Testing')\n",
    "plt.xlabel('Epoch')\n",
    "plt.ylabel('Accuracy')\n",
    "plt.legend()\n",
    "\n",
    "plt.show()"
   ]
  },
  {
   "cell_type": "markdown",
   "metadata": {},
   "source": [
    "## Save training statistics"
   ]
  },
  {
   "cell_type": "code",
   "execution_count": 12,
   "metadata": {},
   "outputs": [],
   "source": [
    "stats.save('Trained/')"
   ]
  },
  {
   "cell_type": "markdown",
   "metadata": {},
   "source": [
    "## Generate Loihi parameters\n",
    "Generate Loihi parameters i.e. weight files."
   ]
  },
  {
   "cell_type": "code",
   "execution_count": 13,
   "metadata": {},
   "outputs": [
    {
     "data": {
      "image/png": "[encoded data removed]",
      "text/plain": [
       "<Figure size 432x288 with 1 Axes>"
      ]
     },
     "metadata": {
      "needs_background": "light"
     },
     "output_type": "display_data"
    },
    {
     "data": {
      "image/png": "[encoded data removed]",
      "text/plain": [
       "<Figure size 432x288 with 1 Axes>"
      ]
     },
     "metadata": {
      "needs_background": "light"
     },
     "output_type": "display_data"
    }
   ],
   "source": [
    "net.load_state_dict(torch.load('Trained/nmnistNet.pt'))\n",
    "fc1Weights = quantizeWeights.apply(net.fc1.weight, 2).flatten().cpu().data.numpy()\n",
    "fc2Weights = quantizeWeights.apply(net.fc2.weight, 2).flatten().cpu().data.numpy()\n",
    "\n",
    "np.save('Trained/NMNISTFc1.npy', fc1Weights)\n",
    "np.save('Trained/NMNISTFc2.npy', fc2Weights)\n",
    "\n",
    "plt.figure(11)\n",
    "plt.hist(fc1Weights, 256)\n",
    "plt.title('fc1 weights')\n",
    "\n",
    "plt.figure(12)\n",
    "plt.hist(fc2Weights, 256)\n",
    "plt.title('fc2 weights')\n",
    "\n",
    "plt.show()"
   ]
  }
 ],
 "metadata": {
  "kernelspec": {
   "display_name": "Python 3",
   "language": "python",
   "name": "python3"
  },
  "language_info": {
   "codemirror_mode": {
    "name": "ipython",
    "version": 3
   },
   "file_extension": ".py",
   "mimetype": "text/x-python",
   "name": "python",
   "nbconvert_exporter": "python",
   "pygments_lexer": "ipython3",
   "version": "3.5.2"
  }
 },
 "nbformat": 4,
 "nbformat_minor": 4
}
